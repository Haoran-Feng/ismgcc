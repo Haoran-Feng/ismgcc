{
 "cells": [
  {
   "cell_type": "markdown",
   "metadata": {},
   "source": [
    "# A Step-by-Step tutorial for usage of ISMGCC\n",
    "\n",
    "## Table of content\n",
    "\n",
    "1. Prepare the environment\n",
    "2. Decompose the input data cube with gausspy+\n",
    "3. Use ISMGCC to find structures\n",
    "4. Run a parameter grid of ISMGCC"
   ]
  },
  {
   "cell_type": "markdown",
   "metadata": {},
   "source": [
    "## Prepare the environment \n",
    "\n",
    "```bash\n",
    "conda create -n ismgcc-demo python=3.9\n",
    "conda activate ismgcc-demo\n",
    "python -m pip install astropy lmfit networkx numpy scipy tqdm matplotlib \n",
    "wget https://github.com/Haoran-Feng/gausspyplus/archive/refs/heads/master.zip\n",
    "```\n",
    "\n"
   ]
  },
  {
   "cell_type": "code",
   "execution_count": null,
   "metadata": {},
   "outputs": [],
   "source": []
  }
 ],
 "metadata": {
  "language_info": {
   "name": "python"
  }
 },
 "nbformat": 4,
 "nbformat_minor": 2
}
