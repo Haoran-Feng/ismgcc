{
 "cells": [
  {
   "cell_type": "markdown",
   "metadata": {},
   "source": [
    "# A Step-by-Step tutorial for usage of ISMGCC\n",
    "\n",
    "\n",
    "This is a tutorial about using the Python implementation of ISMGCC method to find molecular gas structures. \n",
    "The input of ISMGCC is a table containing rows of Gaussian components (GCs), which could be created from observational PPV data cubes with Gaussian decomposition methods, e.g., [GaussPy+](https://github.com/mriener/gausspyplus).\n",
    "For now, we will concentrate on the ISMGCC. \n",
    "Therefore, a ready-made [table](https://github.com/Haoran-Feng/ismgcc/blob/main/example/demo-data/GL14_fit_fin_sf-p2_finalize.csv) is provided.\n",
    "\n",
    "## Table of content\n",
    "\n",
    "1. Prepare the environment\n",
    "2. <del>Decompose the input data cube with gausspy+</del> (we might provide a simple example in the future)\n",
    "3. Use ISMGCC to find structures\n",
    "4. Run a parameter grid of ISMGCC"
   ]
  },
  {
   "cell_type": "markdown",
   "metadata": {},
   "source": [
    "## Prepare the environment \n",
    "\n",
    "It is recommended to use an isolated conda environment for ISMGCC\n",
    "\n",
    "```bash\n",
    "conda create -n ismgcc-demo python=3.9\n",
    "conda activate ismgcc-demo\n",
    "python -m pip install ismgcc\n",
    "```\n",
    "where `ismgcc-demo` is the name of your new environment, which can be anything you like. \n"
   ]
  },
  {
   "cell_type": "code",
   "execution_count": null,
   "metadata": {},
   "outputs": [],
   "source": []
  }
 ],
 "metadata": {
  "language_info": {
   "name": "python"
  }
 },
 "nbformat": 4,
 "nbformat_minor": 2
}
